{
  "nbformat": 4,
  "nbformat_minor": 0,
  "metadata": {
    "colab": {
      "name": "My New Notebook.ipynb",
      "provenance": [],
      "authorship_tag": "ABX9TyOpR6fkX3ljjSo55/lXJygC",
      "include_colab_link": true
    },
    "kernelspec": {
      "name": "python3",
      "display_name": "Python 3"
    }
  },
  "cells": [
    {
      "cell_type": "markdown",
      "metadata": {
        "id": "view-in-github",
        "colab_type": "text"
      },
      "source": [
        "<a href=\"https://colab.research.google.com/github/eytay74/python-training/blob/main/MyNewNotebook.ipynb\" target=\"_parent\"><img src=\"https://colab.research.google.com/assets/colab-badge.svg\" alt=\"Open In Colab\"/></a>"
      ]
    },
    {
      "cell_type": "markdown",
      "metadata": {
        "id": "p_cbnSfl4V_V"
      },
      "source": [
        "#My 1st Notebook\r\n",
        "**Let's try some codes**"
      ]
    },
    {
      "cell_type": "code",
      "metadata": {
        "colab": {
          "base_uri": "https://localhost:8080/"
        },
        "id": "hb4JWyKL4Ezi",
        "outputId": "d793ffc9-c6bb-43a0-82d2-4c4800173155"
      },
      "source": [
        "2*(3+4)"
      ],
      "execution_count": 1,
      "outputs": [
        {
          "output_type": "execute_result",
          "data": {
            "text/plain": [
              "14"
            ]
          },
          "metadata": {
            "tags": []
          },
          "execution_count": 1
        }
      ]
    },
    {
      "cell_type": "code",
      "metadata": {
        "colab": {
          "base_uri": "https://localhost:8080/"
        },
        "id": "O591n8JM4Ut9",
        "outputId": "2dcb3faf-398d-4a5b-fea5-9259a60b10a5"
      },
      "source": [
        "print(\"hello, pls print 'first value:' \", 1)\r\n",
        "print(\"second value:\", 2)"
      ],
      "execution_count": 4,
      "outputs": [
        {
          "output_type": "stream",
          "text": [
            "hello, pls print 'first value:'  1\n",
            "second value: 2\n"
          ],
          "name": "stdout"
        }
      ]
    },
    {
      "cell_type": "code",
      "metadata": {
        "colab": {
          "base_uri": "https://localhost:8080/"
        },
        "id": "1B_bKEL55Y5f",
        "outputId": "97449f44-ccb4-4515-ae59-2d688d1f414f"
      },
      "source": [
        "numbers=[4,3,2,1]\r\n",
        "numbers.sort()\r\n",
        "print(numbers)"
      ],
      "execution_count": 7,
      "outputs": [
        {
          "output_type": "stream",
          "text": [
            "[1, 2, 3, 4]\n"
          ],
          "name": "stdout"
        }
      ]
    }
  ]
}