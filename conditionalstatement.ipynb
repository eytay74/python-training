{
 "cells": [
  {
   "cell_type": "code",
   "execution_count": 16,
   "metadata": {},
   "outputs": [
    {
     "name": "stdout",
     "output_type": "stream",
     "text": [
      "2\n",
      "x is positive\n"
     ]
    }
   ],
   "source": [
    "x=input()\n",
    "x=int(x)\n",
    "if x == 0:\n",
    "    print(\"x is zero\")\n",
    "if x > 0:\n",
    "    print(\"x is positive\")\n",
    "if x < 0:\n",
    "    print(\"x is negative\")\n"
   ]
  },
  {
   "cell_type": "code",
   "execution_count": 29,
   "metadata": {},
   "outputs": [
    {
     "name": "stdout",
     "output_type": "stream",
     "text": [
      "Enter price: 23\n",
      "Enter Country: Mal\n",
      "u r from Mal\n"
     ]
    }
   ],
   "source": [
    "Japantax=0.08\n",
    "Maltax=0.06\n",
    "UKtax=0.14\n",
    "Eurtax=0.2\n",
    "Rawprice=input(\"Enter price: \")\n",
    "Rawprice=float(Rawprice)\n",
    "country=input(\"Enter Country: \")\n",
    "Countrsel=str(Countrsel)\n",
    "Countrtax={'Jap':0.08, 'Mal':0.06, 'UK':0.14, 'Eur':0.2}\n",
    "if country == 'Jap':\n",
    "    total_cost=Rawprice * (1+Japantax)\n",
    "    total_cost=round(total_cost)\n",
    "    result=\"you need to pay {} USD becoz u r from {}\".format(total_cost,country)\n",
    "    print(result)\n",
    "elif (country == 'Mal'):\n",
    "    result=\"u r from {}\".format(country)\n",
    "    print(result)"
   ]
  },
  {
   "cell_type": "code",
   "execution_count": null,
   "metadata": {},
   "outputs": [],
   "source": []
  }
 ],
 "metadata": {
  "kernelspec": {
   "display_name": "Python 3",
   "language": "python",
   "name": "python3"
  },
  "language_info": {
   "codemirror_mode": {
    "name": "ipython",
    "version": 3
   },
   "file_extension": ".py",
   "mimetype": "text/x-python",
   "name": "python",
   "nbconvert_exporter": "python",
   "pygments_lexer": "ipython3",
   "version": "3.8.8"
  }
 },
 "nbformat": 4,
 "nbformat_minor": 4
}
